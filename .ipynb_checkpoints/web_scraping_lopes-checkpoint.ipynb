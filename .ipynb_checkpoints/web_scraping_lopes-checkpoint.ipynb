{
 "cells": [
  {
   "cell_type": "markdown",
   "metadata": {},
   "source": [
    "# <font color=#5063f8>TecWeb Projeto 03 - Web Scraping Lopes</font> "
   ]
  },
  {
   "cell_type": "markdown",
   "metadata": {},
   "source": [
    "### <font color=#5063f8>Membros: Paulo Kim, Raphael Lahiry, Rodrigo Coelho</font>"
   ]
  },
  {
   "cell_type": "markdown",
   "metadata": {},
   "source": [
    "## <font color=#5063f8>Bibliotecas utilizadas</font>"
   ]
  },
  {
   "cell_type": "code",
   "execution_count": 1,
   "metadata": {},
   "outputs": [],
   "source": [
    "# Bibliotecas úteis \n",
    "import numpy as np\n",
    "from bs4 import BeautifulSoup\n",
    "import requests\n",
    "import pandas as pd\n",
    "import re\n",
    "from tqdm import tqdm\n",
    "import time"
   ]
  },
  {
   "cell_type": "markdown",
   "metadata": {},
   "source": [
    "# <font color=#ffa500>Extração dos Dados</font>"
   ]
  },
  {
   "cell_type": "code",
   "execution_count": 49,
   "metadata": {
    "tags": []
   },
   "outputs": [
    {
     "name": "stderr",
     "output_type": "stream",
     "text": [
      "Extraindo dados...: 100%|███████████████████████████████████████████████████████████████████████████████████████████████████████████████████████████████████████████████████████████████████████████████████| 20/20 [00:07<00:00,  2.70it/s]\n"
     ]
    }
   ],
   "source": [
    "# extração dos dados desejados através do web scraping do Airbnb\n",
    "\n",
    "url = 'https://www.lopes.com.br/busca/aluguel/br/sp/sao-paulo?campaignid=15306790059&gclid=CjwKCAiAv_KMBhAzEiwAs-rX1OzpakkG34lm6AyTtf1tVc_ZsrG5sjZ3nI2KgPdil72PwXiaVyIclRoCWVcQAvD_BwE'\n",
    "resposta = requests.get(url=url)\n",
    "resposta.encoding = 'utf-8'\n",
    "\n",
    "lista_tipo_imovel = []\n",
    "lista_preco = []\n",
    "lista_aluguel = []\n",
    "lista_local = []\n",
    "lista_atributos = []\n",
    "\n",
    "for _ in tqdm(range(20), desc = 'Extraindo dados...'):\n",
    "\n",
    "    soup = BeautifulSoup(resposta.text, 'html.parser')\n",
    "\n",
    "    anuncios = soup.findAll('li', class_=\"cardlist__item ng-star-inserted\")\n",
    "    \n",
    "    for i in range(0, len(anuncios)):\n",
    "        \n",
    "        anuncio = anuncios[i]\n",
    "\n",
    "        tipo_imovel = anuncio.find('p', class_=\"card__type\")\n",
    "        (lista_tipo_imovel.append(tipo_imovel) if tipo_imovel is not None else None)\n",
    "\n",
    "        preco = anuncio.find('h4', class_=\"card__price\")\n",
    "        (lista_preco.append(preco) if preco is not None else None)\n",
    "\n",
    "        aluguel = anuncio.find('h5', class_=\"card__subprice\")\n",
    "        (lista_aluguel.append(aluguel) if aluguel is not None else None)\n",
    "\n",
    "        local = anuncio.findAll('p', class_=\"card__location\")\n",
    "        (lista_local.append(local) if local else None)\n",
    "\n",
    "        atributos = anuncio.findAll(\"div\", {\"class.attributes__value\": \"withLabel\"})\n",
    "        (lista_atributos.append(atributos) if atributos else None)\n",
    "                \n",
    "    url = soup.find('a', {\"aria-label\": \"Próxima página\"}).attrs['href']\n",
    "    if 'https://www.lopes.com.br' not in url:\n",
    "        url = 'https://www.lopes.com.br' + soup.find('a', {\"aria-label\": \"Próxima página\"}).attrs['href']\n",
    "    resposta = requests.get(url)\n",
    "    resposta.encoding = 'utf-8'\n",
    "    \n",
    "    \n",
    "lista_tipo_imovel = [tipo_imovel.get_text() for tipo_imovel in lista_tipo_imovel]\n",
    "lista_preco = [preco.get_text().split('\\xa0')[1].split('/')[0] for preco in lista_preco]\n",
    "lista_aluguel = [aluguel.get_text().split('\\xa0')[1] for aluguel in lista_aluguel]\n",
    "lista_local = [local[1].get_text().split(',')[0] for local in lista_local]\n",
    "lista_metragem = [atributos[0].get_text() for atributos in lista_atributos]\n",
    "lista_quartos = [atributos[1].get_text() for atributos in lista_atributos]\n",
    "lista_banheiros = [atributos[2].get_text() for atributos in lista_atributos]\n",
    "lista_vagas = []\n",
    "for atributos in lista_atributos:\n",
    "    if len(atributos) > 3:\n",
    "        lista_vagas.append(atributos[3].get_text())\n",
    "    else:\n",
    "        lista_vagas.append(0)"
   ]
  },
  {
   "cell_type": "markdown",
   "metadata": {},
   "source": [
    "# <font color=#ffa500>Dataframe</font>"
   ]
  },
  {
   "cell_type": "code",
   "execution_count": 50,
   "metadata": {},
   "outputs": [],
   "source": [
    "dados = pd.DataFrame({'Imóvel': lista_tipo_imovel,\n",
    "                      'Preço (R$)': lista_preco,\n",
    "                      'Aluguel (R$)': lista_aluguel,\n",
    "                      'Bairro': lista_local,\n",
    "                      'Área': lista_metragem,\n",
    "                      'Quartos': lista_quartos,\n",
    "                      'Banheiros': lista_banheiros,\n",
    "                      'Vagas': lista_vagas\n",
    "                     })"
   ]
  },
  {
   "cell_type": "code",
   "execution_count": 51,
   "metadata": {},
   "outputs": [
    {
     "data": {
      "text/html": [
       "<div>\n",
       "<style scoped>\n",
       "    .dataframe tbody tr th:only-of-type {\n",
       "        vertical-align: middle;\n",
       "    }\n",
       "\n",
       "    .dataframe tbody tr th {\n",
       "        vertical-align: top;\n",
       "    }\n",
       "\n",
       "    .dataframe thead th {\n",
       "        text-align: right;\n",
       "    }\n",
       "</style>\n",
       "<table border=\"1\" class=\"dataframe\">\n",
       "  <thead>\n",
       "    <tr style=\"text-align: right;\">\n",
       "      <th></th>\n",
       "      <th>Imóvel</th>\n",
       "      <th>Preço (R$)</th>\n",
       "      <th>Aluguel (R$)</th>\n",
       "      <th>Bairro</th>\n",
       "      <th>Área</th>\n",
       "      <th>Quartos</th>\n",
       "      <th>Banheiros</th>\n",
       "      <th>Vagas</th>\n",
       "    </tr>\n",
       "  </thead>\n",
       "  <tbody>\n",
       "    <tr>\n",
       "      <th>0</th>\n",
       "      <td>Apartamento</td>\n",
       "      <td>2.478</td>\n",
       "      <td>1.750</td>\n",
       "      <td>Santana</td>\n",
       "      <td>62m²</td>\n",
       "      <td>02</td>\n",
       "      <td>02</td>\n",
       "      <td>01</td>\n",
       "    </tr>\n",
       "    <tr>\n",
       "      <th>1</th>\n",
       "      <td>Apartamento</td>\n",
       "      <td>3.020</td>\n",
       "      <td>2.300</td>\n",
       "      <td>Santana</td>\n",
       "      <td>72m²</td>\n",
       "      <td>02</td>\n",
       "      <td>02</td>\n",
       "      <td>01</td>\n",
       "    </tr>\n",
       "    <tr>\n",
       "      <th>2</th>\n",
       "      <td>Condomínio</td>\n",
       "      <td>59.600</td>\n",
       "      <td>50.000</td>\n",
       "      <td>Alto Da Boa Vista</td>\n",
       "      <td>594m²</td>\n",
       "      <td>04</td>\n",
       "      <td>06</td>\n",
       "      <td>04</td>\n",
       "    </tr>\n",
       "    <tr>\n",
       "      <th>3</th>\n",
       "      <td>Apartamento</td>\n",
       "      <td>64.990</td>\n",
       "      <td>50.000</td>\n",
       "      <td>Alto De Pinheiros</td>\n",
       "      <td>644m²</td>\n",
       "      <td>04</td>\n",
       "      <td>06</td>\n",
       "      <td>08</td>\n",
       "    </tr>\n",
       "    <tr>\n",
       "      <th>4</th>\n",
       "      <td>Apartamento</td>\n",
       "      <td>64.990</td>\n",
       "      <td>50.000</td>\n",
       "      <td>Alto De Pinheiros</td>\n",
       "      <td>644m²</td>\n",
       "      <td>04</td>\n",
       "      <td>06</td>\n",
       "      <td>08</td>\n",
       "    </tr>\n",
       "  </tbody>\n",
       "</table>\n",
       "</div>"
      ],
      "text/plain": [
       "        Imóvel Preço (R$) Aluguel (R$)             Bairro     Área Quartos  \\\n",
       "0  Apartamento      2.478        1.750            Santana    62m²      02    \n",
       "1  Apartamento      3.020        2.300            Santana    72m²      02    \n",
       "2   Condomínio     59.600       50.000  Alto Da Boa Vista   594m²      04    \n",
       "3  Apartamento     64.990       50.000  Alto De Pinheiros   644m²      04    \n",
       "4  Apartamento     64.990       50.000  Alto De Pinheiros   644m²      04    \n",
       "\n",
       "  Banheiros Vagas  \n",
       "0       02    01   \n",
       "1       02    01   \n",
       "2       06    04   \n",
       "3       06    08   \n",
       "4       06    08   "
      ]
     },
     "execution_count": 51,
     "metadata": {},
     "output_type": "execute_result"
    }
   ],
   "source": [
    "dados.head()"
   ]
  },
  {
   "cell_type": "code",
   "execution_count": 53,
   "metadata": {},
   "outputs": [],
   "source": [
    "dados.drop_duplicates(inplace=True)"
   ]
  },
  {
   "cell_type": "code",
   "execution_count": 54,
   "metadata": {},
   "outputs": [
    {
     "name": "stdout",
     "output_type": "stream",
     "text": [
      "<class 'pandas.core.frame.DataFrame'>\n",
      "Int64Index: 429 entries, 0 to 459\n",
      "Data columns (total 8 columns):\n",
      " #   Column        Non-Null Count  Dtype \n",
      "---  ------        --------------  ----- \n",
      " 0   Imóvel        429 non-null    object\n",
      " 1   Preço (R$)    429 non-null    object\n",
      " 2   Aluguel (R$)  429 non-null    object\n",
      " 3   Bairro        429 non-null    object\n",
      " 4   Área          429 non-null    object\n",
      " 5   Quartos       429 non-null    object\n",
      " 6   Banheiros     429 non-null    object\n",
      " 7   Vagas         429 non-null    object\n",
      "dtypes: object(8)\n",
      "memory usage: 30.2+ KB\n"
     ]
    }
   ],
   "source": [
    "dados.info()"
   ]
  },
  {
   "cell_type": "markdown",
   "metadata": {},
   "source": [
    "# <font color=#ffa500>Salvando dados em um arquivo csv</font>"
   ]
  },
  {
   "cell_type": "code",
   "execution_count": 55,
   "metadata": {},
   "outputs": [],
   "source": [
    "dados.to_csv('dados_anuncios_lopes_imoveis.csv', index=False)"
   ]
  },
  {
   "cell_type": "code",
   "execution_count": null,
   "metadata": {},
   "outputs": [],
   "source": []
  }
 ],
 "metadata": {
  "kernelspec": {
   "display_name": "Python 3",
   "language": "python",
   "name": "python3"
  },
  "language_info": {
   "codemirror_mode": {
    "name": "ipython",
    "version": 3
   },
   "file_extension": ".py",
   "mimetype": "text/x-python",
   "name": "python",
   "nbconvert_exporter": "python",
   "pygments_lexer": "ipython3",
   "version": "3.8.3"
  }
 },
 "nbformat": 4,
 "nbformat_minor": 5
}
